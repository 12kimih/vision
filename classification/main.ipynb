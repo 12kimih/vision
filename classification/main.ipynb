{
 "cells": [
  {
   "attachments": {},
   "cell_type": "markdown",
   "metadata": {},
   "source": [
    "Image Classification"
   ]
  },
  {
   "cell_type": "code",
   "execution_count": null,
   "metadata": {},
   "outputs": [],
   "source": [
    "%matplotlib inline\n",
    "\n",
    "import os\n",
    "import sys\n",
    "from pathlib import Path\n",
    "from functools import partial\n",
    "\n",
    "import numpy as np\n",
    "import matplotlib.pyplot as plt\n",
    "\n",
    "import torch\n",
    "import torch.nn as nn\n",
    "import torch.optim as optim\n",
    "from torch.utils.data import DataLoader\n",
    "\n",
    "import torchvision.datasets as datasets\n",
    "import torchvision.transforms as transforms\n",
    "from torchvision.utils import make_grid\n",
    "\n",
    "from models.resnet import ResNet, ResNetConfig, resnet18, resnet34, resnet50, resnet101, resnet152\n",
    "from models.efficientnet import EfficientNet, EfficientNetConfig, efficientnet_b0, efficientnetv2_s\n",
    "\n",
    "torch.manual_seed(0)"
   ]
  },
  {
   "attachments": {},
   "cell_type": "markdown",
   "metadata": {},
   "source": [
    "Choose dataset."
   ]
  },
  {
   "cell_type": "code",
   "execution_count": null,
   "metadata": {},
   "outputs": [],
   "source": [
    "# available datasets: 'cifar10', 'cifar100', 'mnist', 'emnist'\n",
    "_dataset = 'cifar10'\n",
    "\n",
    "if _dataset == 'cifar10':\n",
    "    dataset = datasets.CIFAR10\n",
    "elif _dataset == 'cifar100':\n",
    "    dataset = datasets.CIFAR100\n",
    "elif _dataset == 'mnist':\n",
    "    dataset = datasets.MNIST\n",
    "elif _dataset == 'emnist':\n",
    "    dataset = partial(datasets.EMNIST, split='letters')\n",
    "else:\n",
    "    raise ValueError('dataset only supports {cifar10|cifar100|mnist|emnist}')"
   ]
  },
  {
   "attachments": {},
   "cell_type": "markdown",
   "metadata": {},
   "source": [
    "Compute mean and std."
   ]
  },
  {
   "cell_type": "code",
   "execution_count": null,
   "metadata": {},
   "outputs": [],
   "source": [
    "batch_size = 128\n",
    "num_workers = 8\n",
    "\n",
    "trainset = dataset(root='./data', train=True, transform=transforms.ToTensor(), download=True)\n",
    "trainloader = DataLoader(trainset, batch_size=batch_size, shuffle=False, num_workers=num_workers, drop_last=False)\n",
    "\n",
    "classes = trainset.classes\n",
    "num_classes = len(classes)\n",
    "\n",
    "images, labels = next(iter(trainloader))\n",
    "\n",
    "size = images.size(dim=2)\n",
    "in_channels = images.size(dim=1)\n",
    "\n",
    "s = torch.zeros(in_channels, dtype=torch.float64)\n",
    "ss = torch.zeros(in_channels, dtype=torch.float64)\n",
    "total = 0\n",
    "for images, labels in trainloader:\n",
    "    s += torch.sum(images, dim=(0, 2, 3))\n",
    "    ss += torch.sum(torch.square(images), dim=(0, 2, 3))\n",
    "    total += images.size(dim=0) * images.size(dim=2) * images.size(dim=3)\n",
    "\n",
    "mean = torch.div(s, total)\n",
    "std = torch.sqrt(torch.sub(torch.div(ss, total), torch.square(mean)))\n",
    "\n",
    "print(mean)\n",
    "print(std)\n",
    "\n",
    "fig, ax = plt.subplots()\n",
    "ax.imshow(torch.permute(make_grid(images[:4]), dims=(1, 2, 0)).numpy())\n",
    "ax.axis('off')\n",
    "plt.tight_layout()\n",
    "print(' '.join(f'{classes[labels[j]]}' for j in range(4)))"
   ]
  },
  {
   "attachments": {},
   "cell_type": "markdown",
   "metadata": {},
   "source": [
    "Choose batch size, number of workers. Build dataloader."
   ]
  },
  {
   "cell_type": "code",
   "execution_count": null,
   "metadata": {},
   "outputs": [],
   "source": [
    "batch_size = 128\n",
    "num_workers = 8\n",
    "\n",
    "augment = transforms.Compose([\n",
    "    transforms.RandomCrop(size, padding=4, padding_mode='reflect'),\n",
    "    transforms.RandomHorizontalFlip()\n",
    "])\n",
    "normalize = transforms.Compose([\n",
    "    transforms.ToTensor(),\n",
    "    transforms.Normalize(mean, std)\n",
    "])\n",
    "\n",
    "trainset = dataset(root='./data', train=True, transform=transforms.Compose([augment, normalize]), download=True)\n",
    "trainloader = DataLoader(trainset, batch_size=batch_size, shuffle=True, num_workers=num_workers, drop_last=False)\n",
    "\n",
    "testset = dataset(root='./data', train=False, transform=normalize, download=True)\n",
    "testloader = DataLoader(testset, batch_size=batch_size, shuffle=False, num_workers=num_workers, drop_last=False)"
   ]
  },
  {
   "attachments": {},
   "cell_type": "markdown",
   "metadata": {},
   "source": [
    "Choose device, model."
   ]
  },
  {
   "cell_type": "code",
   "execution_count": null,
   "metadata": {},
   "outputs": [],
   "source": [
    "_device = 'cuda'\n",
    "device = torch.device(_device)\n",
    "\n",
    "model = resnet18(in_channels=in_channels, num_classes=num_classes, dropout=0.2)\n",
    "model.to(device)\n",
    "\n",
    "print(model)"
   ]
  },
  {
   "attachments": {},
   "cell_type": "markdown",
   "metadata": {},
   "source": [
    "Choose epochs, steps, lr, weight decay, optimizer, scheduler."
   ]
  },
  {
   "cell_type": "code",
   "execution_count": null,
   "metadata": {},
   "outputs": [],
   "source": [
    "epochs = 500\n",
    "steps = 50\n",
    "\n",
    "lr = 1e-3\n",
    "weight_decay = 3e-4\n",
    "T_0 = 1\n",
    "T_mult = 2\n",
    "\n",
    "criterion = nn.CrossEntropyLoss()\n",
    "optimizer = optim.AdamW(model.parameters(), lr=lr, weight_decay=weight_decay)\n",
    "scheduler = optim.lr_scheduler.CosineAnnealingWarmRestarts(optimizer, T_0=T_0, T_mult=T_mult)"
   ]
  },
  {
   "cell_type": "markdown",
   "metadata": {},
   "source": [
    "Make a checkpoint directory. Set file paths."
   ]
  },
  {
   "cell_type": "code",
   "execution_count": null,
   "metadata": {},
   "outputs": [],
   "source": [
    "checkpoint_dir = './checkpoints'\n",
    "Path(checkpoint_dir).mkdir(parents=True, exist_ok=True)\n",
    "\n",
    "checkpoint = os.path.join(checkpoint_dir, 'model.pt')\n",
    "log = os.path.join(checkpoint_dir, 'model.log')"
   ]
  },
  {
   "attachments": {},
   "cell_type": "markdown",
   "metadata": {},
   "source": [
    "Load model if you want."
   ]
  },
  {
   "cell_type": "code",
   "execution_count": null,
   "metadata": {},
   "outputs": [],
   "source": [
    "load = False\n",
    "\n",
    "if load:\n",
    "    state = torch.load(checkpoint)\n",
    "    model.load_state_dict(state['model'])\n",
    "    optimizer.load_state_dict(state['optimizer'])\n",
    "    scheduler.load_state_dict(state['scheduler'])\n",
    "\n",
    "    load_epoch = state['epoch']\n",
    "    best_accuracy = state['best_accuracy']\n",
    "else:\n",
    "    load_epoch = 1\n",
    "    best_accuracy = 0.0"
   ]
  },
  {
   "attachments": {},
   "cell_type": "markdown",
   "metadata": {},
   "source": [
    "Redirect stdout to a log file if you want."
   ]
  },
  {
   "cell_type": "code",
   "execution_count": null,
   "metadata": {},
   "outputs": [],
   "source": [
    "redirect = True\n",
    "\n",
    "if redirect:\n",
    "    f = open(log, 'w')\n",
    "    stdout = sys.stdout\n",
    "    sys.stdout = f"
   ]
  },
  {
   "attachments": {},
   "cell_type": "markdown",
   "metadata": {},
   "source": [
    "Train model. Save the best model every epoch."
   ]
  },
  {
   "cell_type": "code",
   "execution_count": null,
   "metadata": {},
   "outputs": [],
   "source": [
    "for epoch in range(load_epoch - 1, epochs):\n",
    "    running_loss = 0.0\n",
    "    correct = 0\n",
    "    total = 0\n",
    "    model.train()\n",
    "    for step, (images, labels) in enumerate(trainloader):\n",
    "        images, labels = images.to(device), labels.to(device)\n",
    "        outputs = model(images)\n",
    "        loss = criterion(outputs, labels)\n",
    "\n",
    "        optimizer.zero_grad()\n",
    "        loss.backward()\n",
    "        optimizer.step()\n",
    "        scheduler.step()\n",
    "\n",
    "        running_loss += loss.item()\n",
    "        correct += torch.sum(torch.argmax(outputs, dim=-1) == labels).item()\n",
    "        total += labels.size(dim=0)\n",
    "\n",
    "        if (step + 1) % steps == 0:\n",
    "            print(f'[Epoch {epoch + 1:03d}] [Step {step + 1:04d}] Loss: {running_loss / (step + 1):.4f}, Accuracy: {correct / total * 100:.4f} %')\n",
    "\n",
    "    with torch.no_grad():\n",
    "        correct = 0\n",
    "        total = 0\n",
    "        model.eval()\n",
    "        for images, labels in testloader:\n",
    "            images, labels = images.to(device), labels.to(device)\n",
    "            outputs = model(images)\n",
    "            correct += torch.sum(torch.argmax(outputs, dim=-1) == labels).item()\n",
    "            total += labels.size(dim=0)\n",
    "\n",
    "    accuracy = correct / total * 100\n",
    "    print(f'[Epoch {epoch + 1:03d}] Accuracy: {accuracy:.4f} %, Best accuracy: {best_accuracy:.4f} %')\n",
    "\n",
    "    if accuracy > best_accuracy:\n",
    "        best_accuracy = accuracy\n",
    "        state = {\n",
    "            'model': model.state_dict(),\n",
    "            'optimizer': optimizer.state_dict(),\n",
    "            'scheduler': scheduler.state_dict(),\n",
    "            'epoch': epoch + 1,\n",
    "            'best_accuracy': best_accuracy,\n",
    "        }\n",
    "        torch.save(state, './checkpoints/model.pt')\n",
    "        print('New best accuracy, saved model.')"
   ]
  },
  {
   "attachments": {},
   "cell_type": "markdown",
   "metadata": {},
   "source": [
    "Restore stdout."
   ]
  },
  {
   "cell_type": "code",
   "execution_count": null,
   "metadata": {},
   "outputs": [],
   "source": [
    "if redirect:\n",
    "    sys.stdout = stdout\n",
    "    f.close()"
   ]
  },
  {
   "attachments": {},
   "cell_type": "markdown",
   "metadata": {},
   "source": [
    "Test model."
   ]
  },
  {
   "cell_type": "code",
   "execution_count": null,
   "metadata": {},
   "outputs": [],
   "source": [
    "state = torch.load(checkpoint)\n",
    "model.load_state_dict(state['model'])\n",
    "\n",
    "with torch.no_grad():\n",
    "    correct = 0\n",
    "    total = 0\n",
    "    model.eval()\n",
    "    for images, labels in testloader:\n",
    "        images, labels = images.to(device), labels.to(device)\n",
    "        outputs = model(images)\n",
    "        correct += torch.sum(torch.argmax(outputs, dim=-1) == labels).item()\n",
    "        total += labels.size(dim=0)\n",
    "\n",
    "accuracy = correct / total * 100\n",
    "print(f'Accuracy: {accuracy:.4f} %')"
   ]
  }
 ],
 "metadata": {
  "kernelspec": {
   "display_name": "pytorch",
   "language": "python",
   "name": "python3"
  },
  "language_info": {
   "codemirror_mode": {
    "name": "ipython",
    "version": 3
   },
   "file_extension": ".py",
   "mimetype": "text/x-python",
   "name": "python",
   "nbconvert_exporter": "python",
   "pygments_lexer": "ipython3",
   "version": "3.11.4"
  },
  "orig_nbformat": 4
 },
 "nbformat": 4,
 "nbformat_minor": 2
}
