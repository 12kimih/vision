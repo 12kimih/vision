{
 "cells": [
  {
   "attachments": {},
   "cell_type": "markdown",
   "metadata": {},
   "source": [
    "Image Classification"
   ]
  },
  {
   "cell_type": "code",
   "execution_count": 1,
   "metadata": {},
   "outputs": [
    {
     "data": {
      "text/plain": [
       "<torch._C.Generator at 0x7f1bcac14130>"
      ]
     },
     "execution_count": 1,
     "metadata": {},
     "output_type": "execute_result"
    }
   ],
   "source": [
    "%matplotlib inline\n",
    "\n",
    "import sys\n",
    "from functools import partial\n",
    "\n",
    "import numpy as np\n",
    "import matplotlib.pyplot as plt\n",
    "\n",
    "import torch\n",
    "import torch.nn as nn\n",
    "import torch.optim as optim\n",
    "from torch.utils.data import DataLoader\n",
    "\n",
    "import torchvision.datasets as datasets\n",
    "import torchvision.transforms as transforms\n",
    "from torchvision.utils import make_grid\n",
    "\n",
    "from models.resnet import resnet18, resnet34, resnet50, resnet101, resnet152\n",
    "from models.efficientnet import efficientnet_b0, efficientnetv2_s\n",
    "\n",
    "torch.manual_seed(0)"
   ]
  },
  {
   "attachments": {},
   "cell_type": "markdown",
   "metadata": {},
   "source": [
    "Choose dataset."
   ]
  },
  {
   "cell_type": "code",
   "execution_count": 2,
   "metadata": {},
   "outputs": [],
   "source": [
    "# available datasets: 'cifar10', 'cifar100', 'mnist', 'emnist'\n",
    "_dataset = 'cifar10'\n",
    "\n",
    "if _dataset == 'cifar10':\n",
    "    dataset = datasets.CIFAR10\n",
    "elif _dataset == 'cifar100':\n",
    "    dataset = datasets.CIFAR100\n",
    "elif _dataset == 'mnist':\n",
    "    dataset = datasets.MNIST\n",
    "elif _dataset == 'emnist':\n",
    "    dataset = partial(datasets.EMNIST, split='letters')\n",
    "else:\n",
    "    raise ValueError('dataset only supports {cifar10|cifar100|mnist|emnist}')"
   ]
  },
  {
   "attachments": {},
   "cell_type": "markdown",
   "metadata": {},
   "source": [
    "Compute mean and std."
   ]
  },
  {
   "cell_type": "code",
   "execution_count": 3,
   "metadata": {},
   "outputs": [
    {
     "name": "stdout",
     "output_type": "stream",
     "text": [
      "Files already downloaded and verified\n",
      "frog truck truck deer\n",
      "tensor([0.4914, 0.4822, 0.4465], dtype=torch.float64)\n",
      "tensor([0.0610, 0.0593, 0.0684], dtype=torch.float64)\n"
     ]
    },
    {
     "data": {
      "image/png": "[encoded data removed]",
      "text/plain": [
       "<Figure size 640x480 with 1 Axes>"
      ]
     },
     "metadata": {},
     "output_type": "display_data"
    }
   ],
   "source": [
    "batch_size = 256\n",
    "num_workers = 8\n",
    "\n",
    "trainset = dataset(root='./data', train=True, transform=transforms.ToTensor(), download=True)\n",
    "trainloader = DataLoader(trainset, batch_size=batch_size, shuffle=False, num_workers=num_workers, drop_last=False)\n",
    "\n",
    "classes = trainset.classes\n",
    "num_classes = len(classes)\n",
    "num_images = len(trainset)\n",
    "\n",
    "images, labels = next(iter(trainloader))\n",
    "\n",
    "size = images.size(dim=2)\n",
    "channels = images.size(dim=1)\n",
    "\n",
    "fig, ax = plt.subplots()\n",
    "ax.imshow(torch.permute(make_grid(images[:4]), dims=(1, 2, 0)).numpy())\n",
    "ax.axis('off')\n",
    "plt.tight_layout()\n",
    "print(' '.join(f'{classes[labels[j]]}' for j in range(4)))\n",
    "\n",
    "count = torch.zeros(channels, dtype=torch.int64)\n",
    "sum = torch.zeros(channels, dtype=torch.float64)\n",
    "ss = torch.zeros(channels, dtype=torch.float64)\n",
    "\n",
    "for images, labels in trainloader:\n",
    "    count += images.size(0) * images.size(2) * images.size(3)\n",
    "    sum += torch.sum(images, dim=(0, 2, 3))\n",
    "    ss += torch.sum(torch.square(images), dim=(0, 2, 3))\n",
    "\n",
    "mean = torch.div(sum, count)\n",
    "std = torch.sub(torch.div(ss, count), torch.square(mean))\n",
    "\n",
    "print(mean)\n",
    "print(std)"
   ]
  },
  {
   "attachments": {},
   "cell_type": "markdown",
   "metadata": {},
   "source": [
    "Choose batch size, number of workers. Build dataloader."
   ]
  },
  {
   "cell_type": "code",
   "execution_count": 4,
   "metadata": {},
   "outputs": [
    {
     "name": "stdout",
     "output_type": "stream",
     "text": [
      "Files already downloaded and verified\n",
      "Files already downloaded and verified\n"
     ]
    }
   ],
   "source": [
    "batch_size = 128\n",
    "num_workers = 8\n",
    "\n",
    "transform = transforms.Compose([\n",
    "    transforms.ToTensor(),\n",
    "    transforms.Normalize(mean, std)\n",
    "])\n",
    "\n",
    "trainset = dataset(root='./data', train=True, transform=transform, download=True)\n",
    "trainloader = DataLoader(trainset, batch_size=batch_size, shuffle=True, num_workers=num_workers, drop_last=False)\n",
    "\n",
    "testset = dataset(root='./data', train=False, transform=transform, download=True)\n",
    "testloader = DataLoader(testset, batch_size=batch_size, shuffle=False, num_workers=num_workers, drop_last=False)"
   ]
  },
  {
   "attachments": {},
   "cell_type": "markdown",
   "metadata": {},
   "source": [
    "Choose device, model."
   ]
  },
  {
   "cell_type": "code",
   "execution_count": 5,
   "metadata": {},
   "outputs": [
    {
     "name": "stdout",
     "output_type": "stream",
     "text": [
      "ResNet(\n",
      "  (conv1): Conv2d(3, 64, kernel_size=(3, 3), stride=(1, 1), padding=(1, 1), bias=False)\n",
      "  (bn1): BatchNorm2d(512, eps=1e-05, momentum=0.1, affine=True, track_running_stats=True)\n",
      "  (relu): ReLU(inplace=True)\n",
      "  (layers): Sequential(\n",
      "    (0): Sequential(\n",
      "      (0): BasicBlock(\n",
      "        (bn1): BatchNorm2d(64, eps=1e-05, momentum=0.1, affine=True, track_running_stats=True)\n",
      "        (relu): ReLU(inplace=True)\n",
      "        (conv1): Conv2d(64, 64, kernel_size=(3, 3), stride=(1, 1), padding=(1, 1), bias=False)\n",
      "        (bn2): BatchNorm2d(64, eps=1e-05, momentum=0.1, affine=True, track_running_stats=True)\n",
      "        (conv2): Conv2d(64, 64, kernel_size=(3, 3), stride=(1, 1), padding=(1, 1), bias=False)\n",
      "      )\n",
      "      (1): BasicBlock(\n",
      "        (bn1): BatchNorm2d(64, eps=1e-05, momentum=0.1, affine=True, track_running_stats=True)\n",
      "        (relu): ReLU(inplace=True)\n",
      "        (conv1): Conv2d(64, 64, kernel_size=(3, 3), stride=(1, 1), padding=(1, 1), bias=False)\n",
      "        (bn2): BatchNorm2d(64, eps=1e-05, momentum=0.1, affine=True, track_running_stats=True)\n",
      "        (conv2): Conv2d(64, 64, kernel_size=(3, 3), stride=(1, 1), padding=(1, 1), bias=False)\n",
      "      )\n",
      "    )\n",
      "    (1): Sequential(\n",
      "      (0): BasicBlock(\n",
      "        (bn1): BatchNorm2d(64, eps=1e-05, momentum=0.1, affine=True, track_running_stats=True)\n",
      "        (relu): ReLU(inplace=True)\n",
      "        (conv1): Conv2d(64, 128, kernel_size=(4, 4), stride=(2, 2), padding=(1, 1), bias=False)\n",
      "        (bn2): BatchNorm2d(128, eps=1e-05, momentum=0.1, affine=True, track_running_stats=True)\n",
      "        (conv2): Conv2d(128, 128, kernel_size=(3, 3), stride=(1, 1), padding=(1, 1), bias=False)\n",
      "        (shortcut): Conv2d(64, 128, kernel_size=(2, 2), stride=(2, 2), bias=False)\n",
      "      )\n",
      "      (1): BasicBlock(\n",
      "        (bn1): BatchNorm2d(128, eps=1e-05, momentum=0.1, affine=True, track_running_stats=True)\n",
      "        (relu): ReLU(inplace=True)\n",
      "        (conv1): Conv2d(128, 128, kernel_size=(3, 3), stride=(1, 1), padding=(1, 1), bias=False)\n",
      "        (bn2): BatchNorm2d(128, eps=1e-05, momentum=0.1, affine=True, track_running_stats=True)\n",
      "        (conv2): Conv2d(128, 128, kernel_size=(3, 3), stride=(1, 1), padding=(1, 1), bias=False)\n",
      "      )\n",
      "    )\n",
      "    (2): Sequential(\n",
      "      (0): BasicBlock(\n",
      "        (bn1): BatchNorm2d(128, eps=1e-05, momentum=0.1, affine=True, track_running_stats=True)\n",
      "        (relu): ReLU(inplace=True)\n",
      "        (conv1): Conv2d(128, 256, kernel_size=(4, 4), stride=(2, 2), padding=(1, 1), bias=False)\n",
      "        (bn2): BatchNorm2d(256, eps=1e-05, momentum=0.1, affine=True, track_running_stats=True)\n",
      "        (conv2): Conv2d(256, 256, kernel_size=(3, 3), stride=(1, 1), padding=(1, 1), bias=False)\n",
      "        (shortcut): Conv2d(128, 256, kernel_size=(2, 2), stride=(2, 2), bias=False)\n",
      "      )\n",
      "      (1): BasicBlock(\n",
      "        (bn1): BatchNorm2d(256, eps=1e-05, momentum=0.1, affine=True, track_running_stats=True)\n",
      "        (relu): ReLU(inplace=True)\n",
      "        (conv1): Conv2d(256, 256, kernel_size=(3, 3), stride=(1, 1), padding=(1, 1), bias=False)\n",
      "        (bn2): BatchNorm2d(256, eps=1e-05, momentum=0.1, affine=True, track_running_stats=True)\n",
      "        (conv2): Conv2d(256, 256, kernel_size=(3, 3), stride=(1, 1), padding=(1, 1), bias=False)\n",
      "      )\n",
      "    )\n",
      "    (3): Sequential(\n",
      "      (0): BasicBlock(\n",
      "        (bn1): BatchNorm2d(256, eps=1e-05, momentum=0.1, affine=True, track_running_stats=True)\n",
      "        (relu): ReLU(inplace=True)\n",
      "        (conv1): Conv2d(256, 512, kernel_size=(4, 4), stride=(2, 2), padding=(1, 1), bias=False)\n",
      "        (bn2): BatchNorm2d(512, eps=1e-05, momentum=0.1, affine=True, track_running_stats=True)\n",
      "        (conv2): Conv2d(512, 512, kernel_size=(3, 3), stride=(1, 1), padding=(1, 1), bias=False)\n",
      "        (shortcut): Conv2d(256, 512, kernel_size=(2, 2), stride=(2, 2), bias=False)\n",
      "      )\n",
      "      (1): BasicBlock(\n",
      "        (bn1): BatchNorm2d(512, eps=1e-05, momentum=0.1, affine=True, track_running_stats=True)\n",
      "        (relu): ReLU(inplace=True)\n",
      "        (conv1): Conv2d(512, 512, kernel_size=(3, 3), stride=(1, 1), padding=(1, 1), bias=False)\n",
      "        (bn2): BatchNorm2d(512, eps=1e-05, momentum=0.1, affine=True, track_running_stats=True)\n",
      "        (conv2): Conv2d(512, 512, kernel_size=(3, 3), stride=(1, 1), padding=(1, 1), bias=False)\n",
      "      )\n",
      "    )\n",
      "  )\n",
      "  (avgpool): AdaptiveAvgPool2d(output_size=(1, 1))\n",
      "  (dropout): Dropout(p=0.2, inplace=True)\n",
      "  (fc): Linear(in_features=512, out_features=10, bias=True)\n",
      ")\n"
     ]
    }
   ],
   "source": [
    "_device = 'cuda'\n",
    "device = torch.device(_device)\n",
    "\n",
    "model = resnet18(size=size, in_channels=channels, num_classes=num_classes, dropout=0.2)\n",
    "model.to(device)\n",
    "\n",
    "print(model)"
   ]
  },
  {
   "attachments": {},
   "cell_type": "markdown",
   "metadata": {},
   "source": [
    "Choose epochs, steps, lr, weight decay, optimizer, scheduler."
   ]
  },
  {
   "cell_type": "code",
   "execution_count": 6,
   "metadata": {},
   "outputs": [],
   "source": [
    "epochs = 200\n",
    "steps = 50\n",
    "\n",
    "lr = 1e-3\n",
    "weight_decay = 3e-4\n",
    "T_0 = 1\n",
    "T_mult = 2\n",
    "\n",
    "criterion = nn.CrossEntropyLoss()\n",
    "optimizer = optim.AdamW(model.parameters(), lr=lr, weight_decay=weight_decay)\n",
    "scheduler = optim.lr_scheduler.CosineAnnealingWarmRestarts(optimizer, T_0=T_0, T_mult=T_mult)"
   ]
  },
  {
   "attachments": {},
   "cell_type": "markdown",
   "metadata": {},
   "source": [
    "Load model if you want."
   ]
  },
  {
   "cell_type": "code",
   "execution_count": 7,
   "metadata": {},
   "outputs": [],
   "source": [
    "load = False\n",
    "\n",
    "if load:\n",
    "    state = torch.load('./model.pt')\n",
    "\n",
    "    model.load_state_dict(state['model'])\n",
    "    optimizer.load_state_dict(state['optimizer'])\n",
    "    scheduler.load_state_dict(state['scheduler'])\n",
    "\n",
    "    load_epoch = state['epoch']\n",
    "    cycle = state['cycle']\n",
    "    T_i = state['T_i']\n",
    "    best_accuracy = state['best_accuracy']\n",
    "else:\n",
    "    load_epoch = 1\n",
    "    cycle = 0\n",
    "    T_i = T_0\n",
    "    best_accuracy = 0.0"
   ]
  },
  {
   "attachments": {},
   "cell_type": "markdown",
   "metadata": {},
   "source": [
    "Train model. Redirect stdout to a log file. Save the best model at every cycle of lr scheduler."
   ]
  },
  {
   "cell_type": "code",
   "execution_count": 8,
   "metadata": {},
   "outputs": [
    {
     "name": "stderr",
     "output_type": "stream",
     "text": [
      "/home/ik/anaconda3/envs/vision/lib/python3.11/site-packages/torch/nn/modules/conv.py:459: UserWarning: Applied workaround for CuDNN issue, install nvrtc.so (Triggered internally at /opt/conda/conda-bld/pytorch_1682343995622/work/aten/src/ATen/native/cudnn/Conv_v8.cpp:80.)\n",
      "  return F.conv2d(input, weight, bias, self.stride,\n"
     ]
    }
   ],
   "source": [
    "stdout = sys.stdout\n",
    "f = open('model.log', 'w')\n",
    "sys.stdout = f\n",
    "\n",
    "T_cur = 0\n",
    "for epoch in range(load_epoch - 1, epochs):\n",
    "    running_loss = 0.0\n",
    "    running_correct = 0\n",
    "    running_count = 0\n",
    "    for step, (images, labels) in enumerate(trainloader):\n",
    "        model.train()\n",
    "        images, labels = images.to(device), labels.to(device)\n",
    "        outputs = model(images)\n",
    "        loss = criterion(outputs, labels)\n",
    "\n",
    "        optimizer.zero_grad()\n",
    "        loss.backward()\n",
    "        optimizer.step()\n",
    "        scheduler.step()\n",
    "\n",
    "        running_loss += loss.item()\n",
    "        running_correct += torch.sum(torch.argmax(outputs, dim=-1) == labels).item()\n",
    "        running_count += images.size(dim=0)\n",
    "\n",
    "        if (step + 1) % steps == 0:\n",
    "            print(f'[Epoch {epoch + 1:02d}] [Step {step + 1:04d}] Loss: {running_loss / (step + 1):.4f}, Accuracy: {running_correct / running_count:.4f}')\n",
    "\n",
    "        T_cur += 1\n",
    "\n",
    "        if T_cur == T_i:\n",
    "            cycle += 1\n",
    "            T_i *= T_mult\n",
    "            T_cur = 0\n",
    "\n",
    "            correct = 0\n",
    "            count = 0\n",
    "            with torch.no_grad():\n",
    "                for images, labels in testloader:\n",
    "                    model.eval()\n",
    "                    images, labels = images.to(device), labels.to(device)\n",
    "                    outputs = model(images)\n",
    "\n",
    "                    correct += torch.sum(torch.argmax(outputs, dim=-1) == labels).item()\n",
    "                    count += images.size(dim=0)\n",
    "\n",
    "            accuracy = correct / count\n",
    "            print(f'[Cycle {cycle:02d}] Accuracy: {accuracy:.4f}, Best accuracy: {best_accuracy:.4f}')\n",
    "\n",
    "            if accuracy > best_accuracy:\n",
    "                state = {\n",
    "                    'model': model.state_dict(),\n",
    "                    'optimizer': optimizer.state_dict(),\n",
    "                    'scheduler': scheduler.state_dict(),\n",
    "                    'epoch': epoch + 1,\n",
    "                    'cycle': cycle,\n",
    "                    'T_i': T_i,\n",
    "                    'best_accuracy': best_accuracy,\n",
    "                }\n",
    "\n",
    "                torch.save(state, 'model.pt')\n",
    "                best_accuracy = accuracy\n",
    "                print('New best accuracy, saved model.')\n",
    "\n",
    "sys.stdout = stdout\n",
    "f.close()"
   ]
  },
  {
   "attachments": {},
   "cell_type": "markdown",
   "metadata": {},
   "source": [
    "Test model."
   ]
  },
  {
   "cell_type": "code",
   "execution_count": null,
   "metadata": {},
   "outputs": [
    {
     "name": "stderr",
     "output_type": "stream",
     "text": [
      "/home/ik/anaconda3/envs/vision/lib/python3.11/site-packages/torch/nn/modules/conv.py:459: UserWarning: Applied workaround for CuDNN issue, install nvrtc.so (Triggered internally at /opt/conda/conda-bld/pytorch_1682343995622/work/aten/src/ATen/native/cudnn/Conv_v8.cpp:80.)\n",
      "  return F.conv2d(input, weight, bias, self.stride,\n"
     ]
    },
    {
     "name": "stdout",
     "output_type": "stream",
     "text": [
      "Test accuracy: 0.7809\n"
     ]
    }
   ],
   "source": [
    "state = torch.load('./model.pt')\n",
    "\n",
    "model.load_state_dict(state['model'])\n",
    "\n",
    "correct = 0\n",
    "count = 0\n",
    "with torch.no_grad():\n",
    "    for images, labels in testloader:\n",
    "        model.eval()\n",
    "        images, labels = images.to(device), labels.to(device)\n",
    "        outputs = model(images)\n",
    "\n",
    "        correct += torch.sum(torch.argmax(outputs, dim=-1) == labels).item()\n",
    "        count += images.size(dim=0)\n",
    "\n",
    "accuracy = correct / count\n",
    "print(f'Test accuracy: {accuracy:.4f}')"
   ]
  }
 ],
 "metadata": {
  "kernelspec": {
   "display_name": "pytorch",
   "language": "python",
   "name": "python3"
  },
  "language_info": {
   "codemirror_mode": {
    "name": "ipython",
    "version": 3
   },
   "file_extension": ".py",
   "mimetype": "text/x-python",
   "name": "python",
   "nbconvert_exporter": "python",
   "pygments_lexer": "ipython3",
   "version": "3.11.4"
  },
  "orig_nbformat": 4
 },
 "nbformat": 4,
 "nbformat_minor": 2
}
